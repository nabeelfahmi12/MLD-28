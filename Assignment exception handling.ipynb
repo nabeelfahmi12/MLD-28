{
 "cells": [
  {
   "cell_type": "markdown",
   "metadata": {},
   "source": [
    "1. Write a function to compute 5/0 and use try/except to catch the exceptions."
   ]
  },
  {
   "cell_type": "code",
   "execution_count": 26,
   "metadata": {},
   "outputs": [
    {
     "name": "stdout",
     "output_type": "stream",
     "text": [
      "Enter First no: 5\n",
      "Enter Second no: 0\n",
      "The Error is: division by zero\n",
      "The program is Completed\n"
     ]
    }
   ],
   "source": [
    "class Division :\n",
    "    try :\n",
    "        def __init__(self, first_no, second_no) :\n",
    "            self.first_no = first_no\n",
    "            self.second_no = Second_no\n",
    "\n",
    "        @property\n",
    "        def div (self) :\n",
    "            a: int = self.first_no\n",
    "            b: int = self.second_no\n",
    "            return a / b\n",
    "    except Exception as n :\n",
    "        print ( \"error occured: \", n )\n",
    "\n",
    "\n",
    "try :\n",
    "    first_no = int ( input ( \"Enter First no: \" ) )\n",
    "    Second_no = int ( input ( \"Enter Second no: \" ) )\n",
    "\n",
    "    result = Division ( first_no, Second_no )\n",
    "    print ( \"Result: \", result.div )\n",
    "except  Exception as j :\n",
    "    print ( \"The Error is:\", j )\n",
    "finally:\n",
    "    print(\"The program is Completed\")"
   ]
  },
  {
   "cell_type": "code",
   "execution_count": 27,
   "metadata": {},
   "outputs": [
    {
     "name": "stdout",
     "output_type": "stream",
     "text": [
      "Enter First no: 5\n",
      "Enter Second no: dffh\n",
      "The Error is: could not convert string to float: 'dffh'\n",
      "The program is Completed\n"
     ]
    }
   ],
   "source": [
    "try :\n",
    "    def divied (a,b):\n",
    "        c = a/b\n",
    "        return c\n",
    "except Exception as n:\n",
    "    print(\"error occured: \",n)\n",
    "try: \n",
    "    first_no = float(input(\"Enter First no: \"))\n",
    "    Second_no = float(input(\"Enter Second no: \"))\n",
    "    \n",
    "    result = divied(first_no,Second_no)\n",
    "    print(\"Result: \", result)\n",
    "except  Exception as j:\n",
    "    print(\"The Error is:\",j)\n",
    "finally:\n",
    "    print(\"The program is Completed\")"
   ]
  },
  {
   "cell_type": "markdown",
   "metadata": {},
   "source": [
    "2.  Implement a Python program to generate all sentences where subject is in\n",
    "    [\"Americans\", \"Indians\"] and verb is in [\"Play\", \"watch\"] and the object is in\n",
    "    [\"Baseball\",\"cricket\"].\n",
    "\n",
    "    Hint: Subject,Verb and Object should be declared in the program as shown below.\n",
    "    \n",
    "    subjects=[\"Americans \",\"Indians\"]\n",
    "    \n",
    "    verbs=[\"play\",\"watch\"]\n",
    "    \n",
    "    objects=[\"Baseball\",\"Cricket\"]"
   ]
  },
  {
   "cell_type": "code",
   "execution_count": 28,
   "metadata": {},
   "outputs": [
    {
     "name": "stdout",
     "output_type": "stream",
     "text": [
      "Americans play Baseball\n",
      "Americans play Cricket\n",
      "Americans watch Baseball\n",
      "Americans watch Cricket\n",
      "Indians play Baseball\n",
      "Indians play Cricket\n",
      "Indians watch Baseball\n",
      "Indians watch Cricket\n",
      "The program is Completed\n"
     ]
    }
   ],
   "source": [
    "subjects = [\"Americans\" , \"Indians\"]\n",
    "verbs = [\"play\", \"watch\"]\n",
    "objects = [\"Baseball\", \"Cricket\"]\n",
    "Sentences = []\n",
    "try:\n",
    "    i = 0\n",
    "    while i < 2 :\n",
    "        j = 0\n",
    "        while j < 2 :\n",
    "            k = 0\n",
    "            while k < 2 :\n",
    "                creating = (subjects[i] + \" \" + verbs[j] + \" \" + objects[k])\n",
    "                Sentences.append(creating)\n",
    "                k+=1\n",
    "            j+=1\n",
    "        i+=1\n",
    "\n",
    "    print(\"\\n\".join(Sentences))\n",
    "except  Exception as m:\n",
    "    print(\"The Error is:\",m)\n",
    "finally:\n",
    "    print(\"The program is Completed\")"
   ]
  },
  {
   "cell_type": "code",
   "execution_count": null,
   "metadata": {},
   "outputs": [],
   "source": []
  }
 ],
 "metadata": {
  "kernelspec": {
   "display_name": "Python 3",
   "language": "python",
   "name": "python3"
  },
  "language_info": {
   "codemirror_mode": {
    "name": "ipython",
    "version": 3
   },
   "file_extension": ".py",
   "mimetype": "text/x-python",
   "name": "python",
   "nbconvert_exporter": "python",
   "pygments_lexer": "ipython3",
   "version": "3.7.6"
  }
 },
 "nbformat": 4,
 "nbformat_minor": 4
}
