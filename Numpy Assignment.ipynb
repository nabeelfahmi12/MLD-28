{
 "cells": [
  {
   "cell_type": "code",
   "execution_count": 12,
   "metadata": {},
   "outputs": [],
   "source": [
    "import numpy as np\n",
    "import pandas as pan"
   ]
  },
  {
   "cell_type": "markdown",
   "metadata": {},
   "source": [
    "Question 1: Write a function so that the columns of the output matrix are powers of the input\n",
    "vector.\n",
    "The order of the powers is determined by the increasing boolean argument. Specifically, when\n",
    "increasing is False, the i-th output column is the input vector raised element-wise to the power\n",
    "of N - i - 1."
   ]
  },
  {
   "cell_type": "code",
   "execution_count": 13,
   "metadata": {},
   "outputs": [
    {
     "name": "stdout",
     "output_type": "stream",
     "text": [
      "Enter the vector of matrix: 4\n",
      "Enter comma separated list of elements eg. 1,2,3:- 1,2,3,4\n",
      "Enter order Matrix in acsending type \"True\" or for dcesending type \"False\": fhfhf\n",
      "Enter order Matrix in acsending type \"True\" or for dcesending type \"False\":hgfgh\n",
      "Enter either True or False\n",
      "Enter order Matrix in acsending type \"True\" or for dcesending type \"False\":gjhgjg\n",
      "Enter either True or False\n",
      "Enter order Matrix in acsending type \"True\" or for dcesending type \"False\":True\n",
      "\n",
      "The Requried Matrix\n",
      "--------------------\n",
      "[[ 1  1  1  1]\n",
      " [ 1  2  4  8]\n",
      " [ 1  3  9 27]\n",
      " [ 1  4 16 64]]\n",
      "The Program is complete\n"
     ]
    }
   ],
   "source": [
    "# My Vender Function.\n",
    "try:\n",
    "    def My_Vender(a,b,c):\n",
    "        array = [[]for x in range(0,len(a))]\n",
    "        z = 0\n",
    "        if c == \"True\":\n",
    "            for i in a:\n",
    "                for j in range(b):\n",
    "                    d = i**j\n",
    "                    array[z].append(d)\n",
    "                z+=1\n",
    "            return array\n",
    "        if c == \"False\":\n",
    "            for i in a:\n",
    "                for j in range(b):\n",
    "                    d = i**(b-1-j)\n",
    "                    array[z].append(d)\n",
    "                z+=1\n",
    "            return array\n",
    "\n",
    "except Exception as n:         # If any error ouccred it will try to handel it.\n",
    "    print('The Erorr is: ',n)\n",
    "\n",
    "    \n",
    "    \n",
    "try:\n",
    "    Vector = int(input('Enter the vector of matrix: '))      # Taking input from user Power vector\n",
    "    Element = input('Enter comma separated list of elements eg. 1,2,3:- ')    # Taking List of number  \n",
    "    while True:\n",
    "        Bool = input('Enter order Matrix in acsending type \"True\" or for dcesending type \"False\":') # Taking input for \n",
    "        if Bool=='True' or Bool=='False':\n",
    "            break\n",
    "        else:\n",
    "            print('Enter either True or False')\n",
    "    List = list(map(int ,Element.split(',')))\n",
    "    \n",
    "    \n",
    "except Exception as n:           # IN user input if user make some mistake then it try to handel it \n",
    "    print('The Erorr is : ',n)\n",
    "\n",
    "    \n",
    "finally:\n",
    "    mat = My_Vender(List,Vector,Bool)\n",
    "    matrix = np.mat(mat)\n",
    "    print(\"\\nThe Requried Matrix\\n\", '-'*20, sep = '')\n",
    "    print(matrix)\n",
    "    print('The Program is complete')\n",
    "\n"
   ]
  },
  {
   "cell_type": "markdown",
   "metadata": {},
   "source": [
    "Question 2:  Write a function to find moving average in an array over a window:\n",
    "             Test it over [3, 5, 7, 2, 8, 10, 11, 65, 72, 81, 99, 100, 150] and window of 3."
   ]
  },
  {
   "cell_type": "code",
   "execution_count": 51,
   "metadata": {},
   "outputs": [],
   "source": [
    "try :\n",
    "    def moving_average(mylist, N):     # My Moving Average Function\n",
    "        Window, moving_average = [0], []\n",
    "        for i, x in enumerate(mylist, 1):\n",
    "            Window.append(Window[i-1] + x)\n",
    "            if i>=N:\n",
    "                moving_ave = round(((Window[i] - Window[i-N])/N),2)\n",
    "                moving_average.append(moving_ave)\n",
    "        return moving_average\n",
    "except Exception as n:           # If any error ouccred in avove function it will try to handel it.\n",
    "    print('The Erorr is : ',n)"
   ]
  },
  {
   "cell_type": "code",
   "execution_count": 55,
   "metadata": {},
   "outputs": [
    {
     "name": "stdout",
     "output_type": "stream",
     "text": [
      "\n",
      " The moving average is :\n",
      "----------------------------------------------------------------------\n",
      "Moving average values list:  [25.0, 35.0, 45.0, 55.0, 65.0, 75.0, 85.0]\n",
      "\n",
      "Length of the list l-N+1:  7\n"
     ]
    }
   ],
   "source": [
    "mylist = [10, 20, 30, 40, 50, 60, 70, 80, 90, 100]\n",
    "N = 4\n",
    "\n",
    "result1 = moving_average(mylist,N)\n",
    "print(\"\\n The moving average is :\\n\",'-'*70, sep='')\n",
    "print(\"Moving average values list: \", result1)\n",
    "print(\"\\nLength of the list l-N+1: \", len(result1))"
   ]
  },
  {
   "cell_type": "code",
   "execution_count": 57,
   "metadata": {},
   "outputs": [
    {
     "name": "stdout",
     "output_type": "stream",
     "text": [
      "\n",
      " The moving average is :\n",
      "----------------------------------------------------------------------------------------------------\n",
      "Moving average values list:  [5.0, 4.67, 5.67, 6.67, 9.67, 28.67, 49.33, 72.67, 84.0, 93.33, 116.33]\n",
      "\n",
      "Length of the list l-N+1:  11\n"
     ]
    }
   ],
   "source": [
    "mylist = [3, 5, 7, 2, 8, 10, 11, 65, 72, 81, 99, 100, 150]\n",
    "N = 3\n",
    "\n",
    "result2 = moving_average(mylist,N)\n",
    "print(\"\\n The moving average is :\\n\",'-'*100, sep='')\n",
    "print(\"Moving average values list: \", result2)\n",
    "print(\"\\nLength of the list l-N+1: \", len(result2))"
   ]
  },
  {
   "cell_type": "code",
   "execution_count": 58,
   "metadata": {},
   "outputs": [
    {
     "name": "stdout",
     "output_type": "stream",
     "text": [
      "Enter comma separated list of elements eg. 1,2,3:- 8,15,22,35,38,41,55,69,73,99,117,131,151,166,182,191\n",
      "Enter the Window of matrix: 3\n",
      "\n",
      " The moving average is :\n",
      "----------------------------------------------------------------------------------------------------\n",
      "\n",
      "Moving average values list:  [15.0, 24.0, 31.67, 38.0, 44.67, 55.0, 65.67, 80.33, 96.33, 115.67, 133.0, 149.33, 166.33, 179.67]\n",
      "\n",
      "Length of the list l-N+1:  14\n"
     ]
    }
   ],
   "source": [
    "try:\n",
    "    List = input('Enter comma separated list of elements eg. 1,2,3:- ')  # Taking input List of number for program\n",
    "    My_List = list(map(int ,List.split(',')))\n",
    "    Window = int(input('Enter the Window of matrix: '))  # Taking input from user for Window of interval\n",
    "    result3 = moving_average(My_List,Window)\n",
    "\n",
    "except Exception as n:           # IN user input if user make some mistake then it try to handel it \n",
    "    print('The Erorr is : ',n)\n",
    "        \n",
    "finally :\n",
    "    print(\"\\n The moving average is :\\n\",'-'*100, sep='')\n",
    "    print(\"\\nMoving average values list: \", result3)\n",
    "    print(\"\\nLength of the list l-N+1: \", len(result3))"
   ]
  },
  {
   "cell_type": "code",
   "execution_count": null,
   "metadata": {},
   "outputs": [],
   "source": [
    "8,15,22,35,38,41,55,69,73,99,117,131,151,166,182,191"
   ]
  }
 ],
 "metadata": {
  "kernelspec": {
   "display_name": "Python 3",
   "language": "python",
   "name": "python3"
  },
  "language_info": {
   "codemirror_mode": {
    "name": "ipython",
    "version": 3
   },
   "file_extension": ".py",
   "mimetype": "text/x-python",
   "name": "python",
   "nbconvert_exporter": "python",
   "pygments_lexer": "ipython3",
   "version": "3.7.6"
  }
 },
 "nbformat": 4,
 "nbformat_minor": 4
}
