{
 "cells": [
  {
   "cell_type": "markdown",
   "metadata": {},
   "source": [
    "1.1 Write a Python Program(with class concepts) to find the area of the triangle using the below\n",
    "formula.\n",
    "area = (s*(s-a)*(s-b)*(s-c)) ** 0.5\n",
    "Function to take the length of the sides of triangle from user should be defined in the parent\n",
    "class and function to calculate the area should be defined in subclass."
   ]
  },
  {
   "cell_type": "code",
   "execution_count": 76,
   "metadata": {},
   "outputs": [
    {
     "name": "stdout",
     "output_type": "stream",
     "text": [
      "Enter length of side a: 15\n",
      "Enter length of side b: 16\n",
      "Enter length of side c: 17\n",
      "Area of Triangle is:  109.98181667894016\n"
     ]
    }
   ],
   "source": [
    "import math\n",
    "class Side_Triangle():\n",
    "    def __init__(side):\n",
    "        side.side1 = float(input(\"Enter length of side a: \"))\n",
    "        side.side2 = float(input(\"Enter length of side b: \"))\n",
    "        side.side3 = float(input(\"Enter length of side c: \"))\n",
    "class Area_Triangle(Side_Triangle):\n",
    "    def area(side):\n",
    "        s = (side.side1 + side.side2 + side.side3)/2\n",
    "        area = (s*(s- side.side1)*(s- side.side2)*(s- side.side3)) **0.5\n",
    "        print(\"Area of Triangle is: \" , area)\n",
    "result = Area_Triangle()\n",
    "result.area()"
   ]
  },
  {
   "cell_type": "markdown",
   "metadata": {},
   "source": [
    "1.2 Write a function filter_long_words() that takes a list of words and an integer n and returns\n",
    "the list of words that are longer than n."
   ]
  },
  {
   "cell_type": "code",
   "execution_count": 73,
   "metadata": {},
   "outputs": [
    {
     "name": "stdout",
     "output_type": "stream",
     "text": [
      "Enter a list words separated by space: nabeel cat ashar fahmi hat fahad dog monib sid siddiqui imran ahmad atika nab\n",
      "user list is:  ['nabeel', 'cat', 'ashar', 'fahmi', 'hat', 'fahad', 'dog', 'monib', 'sid', 'siddiqui', 'imran', 'ahmad', 'atika', 'nab']\n",
      "enter the no to check string: 5\n",
      "sorted list:  ['nabeel', 'siddiqui']\n"
     ]
    }
   ],
   "source": [
    "def filter_long_words(funcName, iterableObj):\n",
    "    list1 = []\n",
    "    for i in iterableObj:\n",
    "        if funcName(i)!= None:\n",
    "            list1.append(funcName(i))\n",
    "    return list1\n",
    "def sorting_list(word):\n",
    "        if len(word)>lenth_of_word :\n",
    "            return word\n",
    "input_string = input(\"Enter a list words separated by space: \")\n",
    "userList = input_string.split()\n",
    "print(\"user list is: \", userList)\n",
    "lenth_of_word = int(input(\"enter the no to check string: \"))\n",
    "a = list(filter_long_words(sorting_list , userList))\n",
    "print(\"sorted list: \", a)"
   ]
  },
  {
   "cell_type": "markdown",
   "metadata": {},
   "source": [
    "2.1 Write a Python program using function concept that maps list of words into a list of integers\n",
    "representing the lengths of the corresponding words."
   ]
  },
  {
   "cell_type": "code",
   "execution_count": 7,
   "metadata": {},
   "outputs": [
    {
     "name": "stdout",
     "output_type": "stream",
     "text": [
      "Enter a list words separated by space: nabeel cat ashar fahmi hat fahad dog monib sid siddiqui imran ahmad atika nab\n",
      "user list is:  ['nabeel', 'cat', 'ashar', 'fahmi', 'hat', 'fahad', 'dog', 'monib', 'sid', 'siddiqui', 'imran', 'ahmad', 'atika', 'nab']\n",
      "length of words:  [6, 3, 5, 5, 3, 5, 3, 5, 3, 8, 5, 5, 5, 3]\n",
      "As per requested <class 'int'>\n"
     ]
    }
   ],
   "source": [
    "def mapFunction(funcName, iterableObj):\n",
    "    l1 = []\n",
    "    for i in iterableObj:\n",
    "        l1.append(funcName(i))\n",
    "    return l1\n",
    "def length (a):\n",
    "    return len(a)\n",
    "input_string = input(\"Enter a list words separated by space: \")\n",
    "userList = input_string.split()\n",
    "print(\"user list is: \", userList)\n",
    "Lengths_of_words = list(mapFunction(length,userList))\n",
    "print(\"length of words: \", Lengths_of_words)\n",
    "Type = type(Lengths_of_words[3])\n",
    "print(\"As per requested\", Type)"
   ]
  },
  {
   "cell_type": "markdown",
   "metadata": {},
   "source": [
    "2.2 Write a Python function which takes a character (i.e. a string of length 1) and returns True if\n",
    "it is a vowel, False otherwise."
   ]
  },
  {
   "cell_type": "code",
   "execution_count": 72,
   "metadata": {},
   "outputs": [
    {
     "name": "stdout",
     "output_type": "stream",
     "text": [
      "Enter the string: I\n",
      "True\n"
     ]
    }
   ],
   "source": [
    "def  character (string):\n",
    "    vowel = [\"a\",\"e\",\"i\",\"o\",\"u\"]\n",
    "    if len(string) == 1:\n",
    "        if string.isupper() == True:\n",
    "            New_string = string.lower()\n",
    "            for tab in vowel :\n",
    "                if New_string == tab:\n",
    "                    return True\n",
    "            else :\n",
    "                return False\n",
    "        else:\n",
    "            for tab in vowel :\n",
    "                if string == tab:\n",
    "                    return True\n",
    "            else :\n",
    "                 return False\n",
    "    else:\n",
    "        return (\"String has incresed in length\")\n",
    "input_string = input(\"Enter the string: \")\n",
    "check = character(input_string)\n",
    "print(check)"
   ]
  },
  {
   "cell_type": "code",
   "execution_count": null,
   "metadata": {},
   "outputs": [],
   "source": []
  }
 ],
 "metadata": {
  "kernelspec": {
   "display_name": "Python 3",
   "language": "python",
   "name": "python3"
  },
  "language_info": {
   "codemirror_mode": {
    "name": "ipython",
    "version": 3
   },
   "file_extension": ".py",
   "mimetype": "text/x-python",
   "name": "python",
   "nbconvert_exporter": "python",
   "pygments_lexer": "ipython3",
   "version": "3.7.6"
  }
 },
 "nbformat": 4,
 "nbformat_minor": 4
}
