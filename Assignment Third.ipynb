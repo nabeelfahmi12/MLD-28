{
 "cells": [
  {
   "cell_type": "markdown",
   "metadata": {},
   "source": [
    "1.1 Write a Python Program to implement your own myreduce() function which works exactly like Python's built-in function reduce()"
   ]
  },
  {
   "cell_type": "code",
   "execution_count": null,
   "metadata": {},
   "outputs": [],
   "source": [
    "def subta (x, y):\n",
    "    return x-y\n",
    "def multiply (x, y):\n",
    "    return x*y\n",
    "def div (x,y):\n",
    "    return x/y\n",
    "def add(x, y ):\n",
    "    return x+y\n",
    "def bighest_element(x,y):\n",
    "    if x>y:\n",
    "        return x\n",
    "    else:\n",
    "        return y\n",
    "def lowest_element(x,y):\n",
    "    if x < y:\n",
    "        return x\n",
    "    else:\n",
    "        return y\n",
    "def my_reduce(func_name, itratableobj):\n",
    "    list0 = itratableobj[0]\n",
    "    for i in itratableobj[1:]:\n",
    "        list0 = func_name(list0,i)\n",
    "    return list0\n",
    "input_string = input(\"Enter a list numbers or elements separated by space: \")\n",
    "userList = input_string.split()\n",
    "print(\"user list is \", userList)\n",
    "new_list = []\n",
    "for i in userList :\n",
    "    new_list.append(int(i))\n",
    "result = my_reduce(multiply,new_list)\n",
    "print(\"Multiple of the list\",result)\n",
    "result2 = my_reduce(lowest_element , new_list)\n",
    "print(\"lowest element \", result2)"
   ]
  },
  {
   "cell_type": "markdown",
   "metadata": {},
   "source": [
    "1.2 Write a Python program to implement your own myfilter() function which works exactly like Python's built-in function filter()"
   ]
  },
  {
   "cell_type": "code",
   "execution_count": 89,
   "metadata": {},
   "outputs": [
    {
     "name": "stdout",
     "output_type": "stream",
     "text": [
      "Enter a list numbers or elements separated by space: 15 -6 12 -8 -3 13 18 19 25 -12 -13 220 -985\n",
      "user list is  ['15', '-6', '12', '-8', '-3', '13', '18', '19', '25', '-12', '-13', '220', '-985']\n",
      "even :  [-6, 12, -8, 18, -12, 220]\n",
      "positive no are true:  [-6, -8, -3, -12, -13, -985]\n"
     ]
    }
   ],
   "source": [
    "def my_filter(funcName, iterableObj):\n",
    "    list1 = []\n",
    "    for i in iterableObj:\n",
    "        if funcName(i)!= None:\n",
    "            list1.append(funcName(i))\n",
    "    return list1\n",
    "def even_check(num):\n",
    "     if num % 2 == 0:\n",
    "            return num\n",
    "def negetive (num):\n",
    "    if num < 0 :\n",
    "        return num\n",
    "input_string = input(\"Enter a list numbers or elements separated by space: \")\n",
    "userList = input_string.split()\n",
    "print(\"user list is \", userList)\n",
    "new_list = []\n",
    "for i in userList :\n",
    "    new_list.append(int(i))\n",
    "a = list(my_filter(even_check, new_list))\n",
    "print(\"even : \", a)\n",
    "b = list(my_filter(negetive,new_list))\n",
    "c = list(filter(even_check, new_list))\n",
    "print(\"positive no are true: \", b)"
   ]
  },
  {
   "cell_type": "markdown",
   "metadata": {},
   "source": [
    " 2   Implement List comprehensions to produce the following lists.\n",
    "   \n",
    "     ['x', 'xx', 'xxx', 'xxxx', 'y', 'yy', 'yyy', 'yyyy', 'z', 'zz', 'zzz', 'zzzz'] \n",
    "     ['x', 'y', 'z', 'xx', 'yy', 'zz', 'xxx', 'yyy', 'zzz', 'xxxx', 'yyyy', 'zzzz'] \n",
    "     [[2], [3], [4], [3], [4], [5], [4], [5], [6]] \n",
    "     [[2, 3, 4, 5], [3, 4, 5, 6], [4, 5, 6, 7], [5, 6, 7, 8]] \n",
    "     [(1, 1), (2, 1), (3, 1), (1, 2), (2, 2), (3, 2), (1, 3), (2, 3), (3, 3)]"
   ]
  },
  {
   "cell_type": "markdown",
   "metadata": {},
   "source": [
    "Q2.1 ['x', 'xx', 'xxx', 'xxxx', 'y', 'yy', 'yyy', 'yyyy', 'z', 'zz', 'zzz', 'zzzz']"
   ]
  },
  {
   "cell_type": "code",
   "execution_count": 49,
   "metadata": {},
   "outputs": [
    {
     "name": "stdout",
     "output_type": "stream",
     "text": [
      "output:  ['x', 'xx', 'xxx', 'xxxx', 'y', 'yy', 'yyy', 'yyyy', 'z', 'zz', 'zzz', 'zzzz']\n"
     ]
    }
   ],
   "source": [
    "a = list(i*j for i in ['x','y','z'] for j in range(1,5))\n",
    "print(\"output: \",a)"
   ]
  },
  {
   "cell_type": "markdown",
   "metadata": {},
   "source": [
    "Q2.2 ['x', 'y', 'z', 'xx', 'yy', 'zz', 'xxx', 'yyy', 'zzz', 'xxxx', 'yyyy', 'zzzz']"
   ]
  },
  {
   "cell_type": "code",
   "execution_count": 48,
   "metadata": {},
   "outputs": [
    {
     "name": "stdout",
     "output_type": "stream",
     "text": [
      "output:  ['x', 'y', 'z', 'xx', 'yy', 'zz', 'xxx', 'yyy', 'zzz', 'xxxx', 'yyyy', 'zzzz']\n"
     ]
    }
   ],
   "source": [
    "b = list(i*j for i in range(1,5) for j in ['x','y','z'])\n",
    "print(\"output: \",b)"
   ]
  },
  {
   "cell_type": "markdown",
   "metadata": {},
   "source": [
    "Q2.3 [[2], [3], [4], [3], [4], [5], [4], [5], [6]] "
   ]
  },
  {
   "cell_type": "code",
   "execution_count": 50,
   "metadata": {},
   "outputs": [
    {
     "name": "stdout",
     "output_type": "stream",
     "text": [
      "output:  [[2], [3], [4], [3], [4], [5], [4], [5], [6]]\n"
     ]
    }
   ],
   "source": [
    "c = list([i+j] for i in range(2,5) for j in range(0,3))\n",
    "print(\"output: \",c)"
   ]
  },
  {
   "cell_type": "markdown",
   "metadata": {},
   "source": [
    "Q2.4 [[2, 3, 4, 5], [3, 4, 5, 6], [4, 5, 6, 7], [5, 6, 7, 8]]"
   ]
  },
  {
   "cell_type": "code",
   "execution_count": 51,
   "metadata": {
    "scrolled": true
   },
   "outputs": [
    {
     "name": "stdout",
     "output_type": "stream",
     "text": [
      "output:  [[2, 3, 4, 5], [3, 4, 5, 6], [4, 5, 6, 7], [5, 6, 7, 8]]\n"
     ]
    }
   ],
   "source": [
    "d = list([i+j for i in range(2,6)] for j in range(0,4))\n",
    "print(\"output: \",d)"
   ]
  },
  {
   "cell_type": "markdown",
   "metadata": {},
   "source": [
    "q.2.5 [(1, 1), (2, 1), (3, 1), (1, 2), (2, 2), (3, 2), (1, 3), (2, 3), (3, 3)]"
   ]
  },
  {
   "cell_type": "code",
   "execution_count": 52,
   "metadata": {},
   "outputs": [
    {
     "name": "stdout",
     "output_type": "stream",
     "text": [
      "output:  [(1, 1), (2, 1), (3, 1), (1, 2), (2, 2), (3, 2), (1, 3), (2, 3), (3, 3)]\n"
     ]
    }
   ],
   "source": [
    "e =  list((j,i) for i in range(1,4) for j in range(1,4))\n",
    "print(\"output: \",e)"
   ]
  }
 ],
 "metadata": {
  "kernelspec": {
   "display_name": "Python 3",
   "language": "python",
   "name": "python3"
  },
  "language_info": {
   "codemirror_mode": {
    "name": "ipython",
    "version": 3
   },
   "file_extension": ".py",
   "mimetype": "text/x-python",
   "name": "python",
   "nbconvert_exporter": "python",
   "pygments_lexer": "ipython3",
   "version": "3.7.6"
  }
 },
 "nbformat": 4,
 "nbformat_minor": 4
}
