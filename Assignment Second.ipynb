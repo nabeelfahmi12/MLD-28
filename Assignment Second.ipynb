{
 "cells": [
  {
   "cell_type": "code",
   "execution_count": 2,
   "metadata": {},
   "outputs": [
    {
     "name": "stdout",
     "output_type": "stream",
     "text": [
      "* \n",
      "* * \n",
      "* * * \n",
      "* * * * \n",
      "* * * * * \n",
      "* * * * \n",
      "* * * \n",
      "* * \n",
      "* \n",
      "\n"
     ]
    }
   ],
   "source": [
    "a = 0\n",
    "b = 0\n",
    "while a <= 4 :\n",
    "    while b <= a:\n",
    "        print ('*',end=\" \" )\n",
    "        b = b+1\n",
    "    print(end=\"\\n\")\n",
    "    b = 0\n",
    "    a = a+1\n",
    "while a <= 5:\n",
    "    while b <= (a-2):\n",
    "        print ('*',end =\" \")\n",
    "        b = b + 1\n",
    "    print(end=\"\\n\")\n",
    "    b = 0\n",
    "    a = a-1\n",
    "    if a == 0:\n",
    "        break"
   ]
  },
  {
   "cell_type": "code",
   "execution_count": 1,
   "metadata": {},
   "outputs": [
    {
     "name": "stdout",
     "output_type": "stream",
     "text": [
      "input word: ineuron\n",
      "output: norueni\n"
     ]
    }
   ],
   "source": [
    "a = input(\"input word: \")\n",
    "print(\"output:\",a[::-1])"
   ]
  }
 ],
 "metadata": {
  "kernelspec": {
   "display_name": "Python 3",
   "language": "python",
   "name": "python3"
  },
  "language_info": {
   "codemirror_mode": {
    "name": "ipython",
    "version": 3
   },
   "file_extension": ".py",
   "mimetype": "text/x-python",
   "name": "python",
   "nbconvert_exporter": "python",
   "pygments_lexer": "ipython3",
   "version": "3.7.6"
  }
 },
 "nbformat": 4,
 "nbformat_minor": 4
}
