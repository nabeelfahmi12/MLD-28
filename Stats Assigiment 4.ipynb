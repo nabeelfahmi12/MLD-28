{
 "cells": [
  {
   "cell_type": "markdown",
   "metadata": {},
   "source": [
    "# Problem Statement 1:\n",
    "    \n",
    "Is gender independent of education level? A random sample of 395 people were\n",
    "surveyed and each person was asked to report the highest education level they\n",
    "obtained. The data that resulted from the survey is summarized in the following table:\n",
    "    \n",
    "Id   | High School |Bachelors |Masters |Ph.d. |Total\n",
    "----------|----|------|------|-------|-------|\n",
    "Female|  60  |   54      |46     |  41 |    201\n",
    "Male   | 40       |    44  |    53   |    57    | 194\n",
    "Total  | 100    |      98 |     99  |     98  |   395\n",
    "\n",
    "Question: Are gender and education level dependent at 5% level of significance? In\n",
    "other words, given the data collected above, is there a relationship between the\n",
    "gender of an individual and the level of education that they have obtained?\n"
   ]
  },
  {
   "cell_type": "code",
   "execution_count": 1,
   "metadata": {},
   "outputs": [],
   "source": [
    "#Null Hypothesis:           The two categorical variables are independent\n",
    "#Alternative Hypothesis:    The two categorical variables are dependent "
   ]
  },
  {
   "cell_type": "code",
   "execution_count": 2,
   "metadata": {},
   "outputs": [],
   "source": [
    "# Lets find expected frequency\n",
    "import pandas as pd"
   ]
  },
  {
   "cell_type": "code",
   "execution_count": 3,
   "metadata": {},
   "outputs": [],
   "source": [
    "Male = [40 ,44 ,53 ,57]\n",
    "Female =[60 ,54 ,46 ,41]\n",
    "total_count_row = [201,194]\n",
    "total_count_column = [100,98,99,98]\n",
    "total_sampel = 395"
   ]
  },
  {
   "cell_type": "code",
   "execution_count": 4,
   "metadata": {},
   "outputs": [],
   "source": [
    "female = []\n",
    "male = []\n",
    "def expected_frequency(total_count_row, total_count_column, total_sampel):\n",
    "    for i in range(len(total_count_row)):\n",
    "        for j in range(len(total_count_column)):\n",
    "            E = (total_count_row[i]*total_count_column[j])/total_sampel\n",
    "            if i == 0:\n",
    "                female.append(E)\n",
    "            else:\n",
    "                male.append(E)"
   ]
  },
  {
   "cell_type": "code",
   "execution_count": 5,
   "metadata": {},
   "outputs": [
    {
     "name": "stdout",
     "output_type": "stream",
     "text": [
      "[50.88607594936709, 49.868354430379746, 50.37721518987342, 49.868354430379746]\n",
      "[49.11392405063291, 48.131645569620254, 48.62278481012658, 48.131645569620254]\n"
     ]
    }
   ],
   "source": [
    "expected_frequency(total_count_row,total_count_column,total_sampel)\n",
    "print(female)\n",
    "print(male)"
   ]
  },
  {
   "cell_type": "code",
   "execution_count": 6,
   "metadata": {},
   "outputs": [
    {
     "data": {
      "text/html": [
       "<div>\n",
       "<style scoped>\n",
       "    .dataframe tbody tr th:only-of-type {\n",
       "        vertical-align: middle;\n",
       "    }\n",
       "\n",
       "    .dataframe tbody tr th {\n",
       "        vertical-align: top;\n",
       "    }\n",
       "\n",
       "    .dataframe thead th {\n",
       "        text-align: right;\n",
       "    }\n",
       "</style>\n",
       "<table border=\"1\" class=\"dataframe\">\n",
       "  <thead>\n",
       "    <tr style=\"text-align: right;\">\n",
       "      <th></th>\n",
       "      <th>High School</th>\n",
       "      <th>Bachelors</th>\n",
       "      <th>Masters</th>\n",
       "      <th>Ph.d</th>\n",
       "    </tr>\n",
       "  </thead>\n",
       "  <tbody>\n",
       "    <tr>\n",
       "      <th>female</th>\n",
       "      <td>50.886076</td>\n",
       "      <td>49.868354</td>\n",
       "      <td>50.377215</td>\n",
       "      <td>49.868354</td>\n",
       "    </tr>\n",
       "    <tr>\n",
       "      <th>male</th>\n",
       "      <td>49.113924</td>\n",
       "      <td>48.131646</td>\n",
       "      <td>48.622785</td>\n",
       "      <td>48.131646</td>\n",
       "    </tr>\n",
       "  </tbody>\n",
       "</table>\n",
       "</div>"
      ],
      "text/plain": [
       "        High School  Bachelors    Masters       Ph.d\n",
       "female    50.886076  49.868354  50.377215  49.868354\n",
       "male      49.113924  48.131646  48.622785  48.131646"
      ]
     },
     "execution_count": 6,
     "metadata": {},
     "output_type": "execute_result"
    }
   ],
   "source": [
    "Dataframe = pd.DataFrame(data =[female,male], index = [\"female\",\"male\"], columns =  [\"High School\" ,\"Bachelors\" ,\"Masters\" ,\"Ph.d\"])\n",
    "Dataframe"
   ]
  },
  {
   "cell_type": "code",
   "execution_count": 7,
   "metadata": {},
   "outputs": [],
   "source": [
    "def sum_of_chi_square():\n",
    "    i = 0\n",
    "    chi_square_new = 0\n",
    "    for j in range(len(Female)):\n",
    "        chi_square = (Female[j] - female[j])**2 / female[j]\n",
    "        chi_square_new = chi_square_new + chi_square\n",
    "    for j in range(len(male)):\n",
    "        chi_square = (Male[j] - male[j])**2 / male[j]\n",
    "        chi_square_new = chi_square_new + chi_square\n",
    "    return \"chi square test: \", chi_square_new"
   ]
  },
  {
   "cell_type": "code",
   "execution_count": 8,
   "metadata": {},
   "outputs": [
    {
     "data": {
      "text/plain": [
       "('chi square test: ', 8.006066246262538)"
      ]
     },
     "execution_count": 8,
     "metadata": {},
     "output_type": "execute_result"
    }
   ],
   "source": [
    " sum_of_chi_square()"
   ]
  },
  {
   "cell_type": "markdown",
   "metadata": {},
   "source": [
    "The critical value chi_squre of with 3 degree of freedom is 7.815. Since 8.006 > 7.815, we reject the null hypothesis and conclude that the education level depends on gender at a 5% level of significance."
   ]
  },
  {
   "cell_type": "markdown",
   "metadata": {},
   "source": [
    "# Problem Statement 2:\n",
    "    \n",
    "Using the following data, perform a oneway analysis of variance using α=.05. Write\n",
    "up the results in APA format.\n",
    "\n",
    "[Group1: 51, 45, 33, 45, 67]\n",
    "\n",
    "[Group2: 23, 43, 23, 43, 45]\n",
    "\n",
    "[Group3: 56, 76, 74, 87, 56]"
   ]
  },
  {
   "cell_type": "code",
   "execution_count": 9,
   "metadata": {},
   "outputs": [
    {
     "name": "stdout",
     "output_type": "stream",
     "text": [
      "Mean of Group1:  48.2\n",
      "Mean of Group2:  35.4\n",
      "Mean of Group3:  69.8\n"
     ]
    }
   ],
   "source": [
    "import numpy as np\n",
    "Group1 = [51, 45, 33, 45, 67]\n",
    "Group2 = [23, 43, 23, 43, 45]\n",
    "Group3 = [56, 76, 74, 87, 56]\n",
    "Mean1 = np.mean(Group1)\n",
    "Mean2 = np.mean(Group2)\n",
    "Mean3 = np.mean(Group3)\n",
    "print(\"Mean of Group1: \", Mean1)\n",
    "print(\"Mean of Group2: \", Mean2)\n",
    "print(\"Mean of Group3: \", Mean3)"
   ]
  },
  {
   "cell_type": "code",
   "execution_count": 10,
   "metadata": {},
   "outputs": [
    {
     "name": "stdout",
     "output_type": "stream",
     "text": [
      "Group1 sum sqr deveation:  612.8\n",
      "Group2 sum sqr deveation:  515.2\n",
      "Group3 sum sqr deveation:  732.8\n"
     ]
    }
   ],
   "source": [
    "def sum_squared_devation(group, mean):           # function to find Sum of squared deviations from the mean (SS) for the groups:\n",
    "    sum_sqr_devation = 0\n",
    "    for i in range(len(group)):\n",
    "        deveation = group[i]- mean\n",
    "        devation_sqr = deveation**2\n",
    "        sum_sqr_devation = sum_sqr_devation + devation_sqr\n",
    "    return sum_sqr_devation\n",
    "Group1_sum_sqr_deveation = sum_squared_devation(Group1, Mean1)   #Sum of squared deviations from the mean (SS) for the groups:\n",
    "Group2_sum_sqr_deveation = sum_squared_devation(Group2, Mean2)   #Sum of squared deviations from the mean (SS) for the groups:  \n",
    "Group3_sum_sqr_deveation = sum_squared_devation(Group3, Mean3)   #Sum of squared deviations from the mean (SS) for the groups:\n",
    "print(\"Group1 sum sqr deveation: \", Group1_sum_sqr_deveation)\n",
    "print(\"Group2 sum sqr deveation: \", Group2_sum_sqr_deveation)\n",
    "print(\"Group3 sum sqr deveation: \", Group3_sum_sqr_deveation)"
   ]
  },
  {
   "cell_type": "code",
   "execution_count": 11,
   "metadata": {},
   "outputs": [
    {
     "name": "stdout",
     "output_type": "stream",
     "text": [
      "Variance 1:  153.2\n",
      "Variance 2:  128.8\n",
      "Variance 3:  183.2\n",
      "Mean squared error:  465.2\n",
      "Df error:  12\n",
      "SS error:  5582.4\n",
      "Grand mean:  51.133333333333326\n"
     ]
    }
   ],
   "source": [
    "Var1 = Group1_sum_sqr_deveation/(len(Group1)-1)\n",
    "Var2 = Group2_sum_sqr_deveation/(len(Group2)-1)\n",
    "Var3 = Group3_sum_sqr_deveation/(len(Group3)-1)\n",
    "print(\"Variance 1: \",Var1)\n",
    "print(\"Variance 2: \",Var2)\n",
    "print(\"Variance 3: \",Var3)\n",
    "MS_error= Var1 + Var2 + Var3\n",
    "print(\"Mean squared error: \", MS_error)\n",
    "#Note: this is just the average within-group variance; it is not sensitive to group mean differences!\n",
    "\n",
    "#Calculating the remaining error (or within) terms for the ANOVA table:\n",
    "dferror= (len(Group1)+ len(Group2)+ len(Group3))- 3    # 3 = no_of_group \n",
    "SSerror=MS_error * dferror\n",
    "print(\"Df error: \", dferror)\n",
    "print(\"SS error: \", SSerror)\n",
    "\n",
    "#Intermediate steps in calculating the variance of the sample means:\n",
    "\n",
    "Grand_mean = (Mean1+ Mean2+Mean3)/3\n",
    "print(\"Grand mean: \", Grand_mean)"
   ]
  },
  {
   "cell_type": "code",
   "execution_count": 12,
   "metadata": {},
   "outputs": [],
   "source": [
    "Mean_Group = [Mean1,Mean2,Mean3]\n",
    "Grand_mean_sum_sqr_deveation = sum_squared_devation(Mean_Group, Grand_mean)\n",
    "\n",
    "Var_means = Grand_mean_sum_sqr_deveation/(len(Mean_Group)-1)\n",
    "MSbetween= Grand_mean_sum_sqr_deveation*(5)\n",
    "\n",
    "#Note: This method of estimating the variance IS sensitive to group mean differences!\n",
    "\n",
    "#Calculating the remaining between (or group) terms of the ANOVA table:\n",
    "\n",
    "dfgroups = len(Mean_Group)-1\n",
    "\n",
    "SSgroup= MSbetween* dfgroups"
   ]
  },
  {
   "cell_type": "code",
   "execution_count": 13,
   "metadata": {},
   "outputs": [
    {
     "data": {
      "text/plain": [
       "6.498137002006305"
      ]
     },
     "execution_count": 13,
     "metadata": {},
     "output_type": "execute_result"
    }
   ],
   "source": [
    "#Test statistic and critical value\n",
    "\n",
    "F =MSbetween/MS_error\n",
    "F"
   ]
  },
  {
   "cell_type": "code",
   "execution_count": 14,
   "metadata": {},
   "outputs": [],
   "source": [
    "#Fcritical(2,12)=3.89\n",
    "\n",
    "#So this means we reject null hypothesis"
   ]
  },
  {
   "cell_type": "code",
   "execution_count": 15,
   "metadata": {},
   "outputs": [
    {
     "data": {
      "text/plain": [
       "0.5199284502132734"
      ]
     },
     "execution_count": 15,
     "metadata": {},
     "output_type": "execute_result"
    }
   ],
   "source": [
    "#Effect size\n",
    "η2 = SSgroup/(SSerror+SSgroup)\n",
    "η2\n",
    "#APA writeup\n",
    "\n",
    "#F(2, 12)=9.75, p <0.05, η2=0.52."
   ]
  },
  {
   "cell_type": "markdown",
   "metadata": {},
   "source": [
    "# Problem Statement 3:\n",
    "\n",
    "Calculate F Test for given 10, 20, 30, 40, 50 and 5,10,15, 20, 25.\n",
    "For 10, 20, 30, 40, 50:"
   ]
  },
  {
   "cell_type": "code",
   "execution_count": 16,
   "metadata": {},
   "outputs": [
    {
     "name": "stdout",
     "output_type": "stream",
     "text": [
      "Mean:  30.0\n",
      "Standard Deviation:  14.142135623730951\n",
      "Variance:  200.0\n"
     ]
    }
   ],
   "source": [
    "import numpy as np\n",
    "Inputs1 =[10,20,30,40,50]\n",
    "Total_no_sampel = 5\n",
    "mean1 = np.mean(Inputs1)                                 #calculating mean for frist Data set\n",
    "Standard_Deviation1 = np.std(Inputs1)                    #calculating standard deviation for frist Data set\n",
    "Variance1 = np.var(Inputs1)                              #calculating variance for first data set\n",
    "print(\"Mean: \", mean1)\n",
    "print(\"Standard Deviation: \", Standard_Deviation1)\n",
    "print(\"Variance: \", Variance1)"
   ]
  },
  {
   "cell_type": "code",
   "execution_count": 17,
   "metadata": {},
   "outputs": [
    {
     "name": "stdout",
     "output_type": "stream",
     "text": [
      "Mean:  15.0\n",
      "Standard Deviation:  7.0710678118654755\n",
      "Variance:  50.0\n"
     ]
    }
   ],
   "source": [
    "Inputs2 =[5,10,15,20,25]\n",
    "Total_no_sampe2 = 5\n",
    "mean2 = np.mean(Inputs2)                                 #calculating mean for Second Data set\n",
    "Standard_Deviation2 = np.std(Inputs2)                    #calculating standard deviation for second Data set\n",
    "Variance2 = np.var(Inputs2)                              #calculating variance for second data set\n",
    "print(\"Mean: \", mean2)\n",
    "print(\"Standard Deviation: \", Standard_Deviation2)\n",
    "print(\"Variance: \", Variance2)"
   ]
  },
  {
   "cell_type": "code",
   "execution_count": 18,
   "metadata": {},
   "outputs": [
    {
     "name": "stdout",
     "output_type": "stream",
     "text": [
      "F Test:  4.0\n"
     ]
    }
   ],
   "source": [
    "#  To calculate F Test\n",
    "\n",
    "f_test = Variance1/Variance2\n",
    "print(\"F Test: \",f_test)"
   ]
  },
  {
   "cell_type": "code",
   "execution_count": null,
   "metadata": {},
   "outputs": [],
   "source": []
  }
 ],
 "metadata": {
  "kernelspec": {
   "display_name": "Python 3",
   "language": "python",
   "name": "python3"
  },
  "language_info": {
   "codemirror_mode": {
    "name": "ipython",
    "version": 3
   },
   "file_extension": ".py",
   "mimetype": "text/x-python",
   "name": "python",
   "nbconvert_exporter": "python",
   "pygments_lexer": "ipython3",
   "version": "3.7.6"
  }
 },
 "nbformat": 4,
 "nbformat_minor": 4
}
